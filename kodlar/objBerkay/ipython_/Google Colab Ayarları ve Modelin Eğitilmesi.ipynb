{
 "cells": [
  {
   "cell_type": "markdown",
   "metadata": {},
   "source": [
    "## google drive'a bağlan"
   ]
  },
  {
   "cell_type": "code",
   "execution_count": null,
   "metadata": {},
   "outputs": [],
   "source": [
    "from google.colab import drive\n",
    "drive.mount(\"/content/gdrive\")"
   ]
  },
  {
   "cell_type": "markdown",
   "metadata": {},
   "source": [
    "## İndir veya yükle\n",
    "**aşağıdaki yararlı iki tane fonksiyon bulunmaktadır.**\n",
    "\n",
    "\n",
    "- Eğitim tamamlandıktan sonra Google Colab makinasından modelleri indirebilmemiz için gerekli olan fonksiyon\n",
    "- Google Colab üzerinden eğitilmiş modeli kullanarak herhangi bir resim üzerinden denemize yarayacak fonksiyon"
   ]
  },
  {
   "cell_type": "code",
   "execution_count": null,
   "metadata": {},
   "outputs": [],
   "source": [
    "# download files \n",
    "def imShow(path):\n",
    "  import cv2\n",
    "  import matplotlib.pyplot as plt\n",
    "  %matplotlib inline\n",
    "\n",
    "  image = cv2.imread(path)\n",
    "  height, width = image.shape[:2]\n",
    "  resized_image = cv2.resize(image,(3*width, 3*height), interpolation = cv2.INTER_CUBIC)\n",
    "\n",
    "  fig = plt.gcf()\n",
    "  fig.set_size_inches(18, 10)\n",
    "  plt.axis(\"off\")\n",
    "  #plt.rcParams['figure.figsize'] = [10, 5]\n",
    "  plt.imshow(cv2.cvtColor(resized_image, cv2.COLOR_BGR2RGB))\n",
    "  plt.show()\n",
    "\n",
    "    \n",
    "\n",
    "def download(path):\n",
    "  from google.colab import files\n",
    "  files.download(path)    "
   ]
  },
  {
   "cell_type": "markdown",
   "metadata": {},
   "source": [
    "## Google Colab cihazından ekran kartının devreye sokulması\n",
    "\n",
    "Ekran kartları yapay zeka eğitiminde, eğitim hızlarını %300'e varan seviyelerde hızlandırmaktadır.\n",
    "\n",
    "Bu yüzden Google Colab cihazımızda ekran kartını devreye sokmamız için gerekli olan kütüphaneleri yüklememiz gerekmektedir."
   ]
  },
  {
   "cell_type": "code",
   "execution_count": null,
   "metadata": {},
   "outputs": [],
   "source": [
    "!/usr/local/cuda/bin/nvcc --version\n",
    "# cuda 10.1 cudNN 7.6.5"
   ]
  },
  {
   "cell_type": "markdown",
   "metadata": {},
   "source": [
    "Yukarıdaki çıktıyı bize şunu anlatıyor:\n",
    "- eğitimi ekran kartı kullanarak yapabilmek için cuda 10.1 yüklü olduğunu ve ona bağlı olan cuDNN 7.6.5 kütüphanesinin gerekli olduğunu söylüyor.\n",
    "\n",
    "- bu işlem için https://developer.nvidia.com/rdp/cudnn-download sitesinden önceden indirmiş olmamız gereken kütüphaneyi google drive hesabımıza yüklememiz gerekmektedir. **Çünkü google colab makinasına sadece bağlı google drive üzerinden dosya yüklenebilmektedir.**"
   ]
  },
  {
   "cell_type": "code",
   "execution_count": null,
   "metadata": {},
   "outputs": [],
   "source": [
    "# dosyamızı google colab makinamıza yükleyelim\n",
    "# 1- google drive içinden tar uzantılı arşiv dosyamızın olduğu dizine gidelim \n",
    "%cd /content/gdrive/MyDrive/Python/old_darknet/cuDNN\n",
    "\n",
    "# 2- cuda kütüphanesini direkt olarak /usr/local dizinine çıkaralım ver çalışması için gerekli komutları girelim\n",
    "!tar -xzvf cudnn-10.1-linux-x64-v7.6.5.32.tgz -C /usr/local\n",
    "!chmod a+r /usr/local/cuda/include/cudnn.h\n",
    "!cat /usr/local/cuda/include/cudnn.h | grep CUDNN_MAJOR -A 2"
   ]
  },
  {
   "cell_type": "markdown",
   "metadata": {},
   "source": [
    "## Kullanılacak olan darknet paket programının kullanıma hazır hale getirilmesi\n",
    "\n",
    "Darknet paket programı altyapısından Google'ın yapay zeka alanında çalışmalarında kullandığı ve diğer programcıların da kullanabilmesi için açık kaynaklı olarak piyasaya sunduğun Tensorflow kütüphanesini kullanır. link : https://www.tensorflow.org/"
   ]
  },
  {
   "cell_type": "code",
   "execution_count": null,
   "metadata": {},
   "outputs": [],
   "source": [
    "## ana makinada dizinine gel\n",
    "%cd /content/\n",
    "\n",
    "## darkneti github üzerinden çek\n",
    "## kendi github hesabımda darknet üzerinde direkt olarak\n",
    "## ekran kartını kullanması için gerekli olan ayarları yapılmış \n",
    "## sürümü bulunduruyorum. ordan çekeceğiz\n",
    "!git clone https://github.com/ybgirgin3/darknet.git\n",
    "\n",
    "# klonlanmış repo dizinine gir kurulumu yap\n",
    "%cd /content/darknet/\n",
    "!git checkout feature/google-colab\n",
    "!make"
   ]
  },
  {
   "cell_type": "markdown",
   "metadata": {},
   "source": [
    "## Konvolüsyon dosyalarını indir"
   ]
  },
  {
   "cell_type": "code",
   "execution_count": null,
   "metadata": {},
   "outputs": [],
   "source": [
    "!wget https://pjreddie.com/media/files/yolov3.weights"
   ]
  },
  {
   "cell_type": "markdown",
   "metadata": {},
   "source": [
    "## darkneti kullanarak hazır eğitilmiş verileri kullanma"
   ]
  },
  {
   "cell_type": "code",
   "execution_count": null,
   "metadata": {},
   "outputs": [],
   "source": [
    "!./darknet detect cfg/yolov3.cfg weights/yolov3.weights data/person.jpg -dont-show\n",
    "imShow('predictions.jpg')"
   ]
  }
 ],
 "metadata": {
  "kernelspec": {
   "display_name": "freelancer",
   "language": "python",
   "name": "freelancer"
  },
  "language_info": {
   "codemirror_mode": {
    "name": "ipython",
    "version": 3
   },
   "file_extension": ".py",
   "mimetype": "text/x-python",
   "name": "python",
   "nbconvert_exporter": "python",
   "pygments_lexer": "ipython3",
   "version": "3.8.8"
  }
 },
 "nbformat": 4,
 "nbformat_minor": 4
}
